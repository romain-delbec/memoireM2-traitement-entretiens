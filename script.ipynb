{
 "cells": [
  {
   "cell_type": "code",
   "execution_count": 139,
   "id": "45aa310c",
   "metadata": {},
   "outputs": [],
   "source": [
    "import os\n",
    "import re\n",
    "from markitdown import MarkItDown\n",
    "\n",
    "md = MarkItDown(enable_plugins=False)"
   ]
  },
  {
   "cell_type": "code",
   "execution_count": 140,
   "id": "7254d51b",
   "metadata": {},
   "outputs": [],
   "source": [
    "fichier_source = 'data/input/Interview Cédric.docx'"
   ]
  },
  {
   "cell_type": "code",
   "execution_count": 141,
   "id": "47152daf",
   "metadata": {},
   "outputs": [],
   "source": [
    "resulat = md.convert(fichier_source)\n",
    "texte = resulat.text_content"
   ]
  },
  {
   "cell_type": "code",
   "execution_count": 142,
   "id": "4edbbbc0",
   "metadata": {},
   "outputs": [],
   "source": [
    "# Suppression des icônes des intervenants\n",
    "texte = re.sub(r'!\\[.*?\\]\\(data:image\\/png;base64.*?\\) ', '', texte)"
   ]
  },
  {
   "cell_type": "code",
   "execution_count": null,
   "id": "7b1f04d1",
   "metadata": {},
   "outputs": [],
   "source": [
    "# Anonymisation du nom et de l'entreprise de la personne rencontrée\n",
    "nom = \"\"\n",
    "entreprise = \"\"\n",
    "texte = re.sub(nom, 'Professionnel 1', texte)\n",
    "texte = re.sub(entreprise, 'entreprise', texte)"
   ]
  },
  {
   "cell_type": "code",
   "execution_count": 144,
   "id": "f27be7b7",
   "metadata": {},
   "outputs": [],
   "source": [
    "# Suppression des répétitions de mots\n",
    "texte = re.sub(r'\\b([\\w\\'’-]+)\\b(?:\\s+\\1\\b)+', r'\\1', texte, flags=re.IGNORECASE)"
   ]
  },
  {
   "cell_type": "code",
   "execution_count": 145,
   "id": "ceb12028",
   "metadata": {},
   "outputs": [],
   "source": [
    "# Formatage des prises de parole en titres markdown de niveau 3\n",
    "texte = re.sub(r'^\\*\\*(.+?)\\*\\*\\s+(\\d+:\\d+)', r'### \\1       \\2', texte, flags=re.MULTILINE)"
   ]
  },
  {
   "cell_type": "code",
   "execution_count": 146,
   "id": "d46205e5",
   "metadata": {},
   "outputs": [],
   "source": [
    "# Export au format markdown\n",
    "with open('data/output/entretien_P1.md', 'w', encoding='utf-8') as md_file:\n",
    "    md_file.write(texte)"
   ]
  }
 ],
 "metadata": {
  "kernelspec": {
   "display_name": "Python 3",
   "language": "python",
   "name": "python3"
  },
  "language_info": {
   "codemirror_mode": {
    "name": "ipython",
    "version": 3
   },
   "file_extension": ".py",
   "mimetype": "text/x-python",
   "name": "python",
   "nbconvert_exporter": "python",
   "pygments_lexer": "ipython3",
   "version": "3.10.11"
  }
 },
 "nbformat": 4,
 "nbformat_minor": 5
}
